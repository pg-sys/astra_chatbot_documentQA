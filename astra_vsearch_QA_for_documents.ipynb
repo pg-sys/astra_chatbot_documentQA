{
  "cells": [
    {
      "cell_type": "markdown",
      "metadata": {
        "id": "view-in-github",
        "colab_type": "text"
      },
      "source": [
        "<a href=\"https://colab.research.google.com/github/pg-sys/astra_chatbot_documentQA/blob/main/astra_vsearch_QA_for_documents.ipynb\" target=\"_parent\"><img src=\"https://colab.research.google.com/assets/colab-badge.svg\" alt=\"Open In Colab\"/></a>"
      ]
    },
    {
      "cell_type": "markdown",
      "metadata": {
        "id": "cf05e3f2"
      },
      "source": [
        "# astra-vsearch-QA-for-documents\n",
        "This demo guides you through setting up Astra DB with Vector Search, Cassio and Open AI to implement an generative Q&A for your own Documentation\n",
        "\n",
        "Jupyter notebook for generative Q&A for douments is powered by [Astra Vector Search](https://docs.datastax.com/en/astra-serverless/docs/vector-search/overview.html) and [OpenAI](https://github.com/openai/) and Casssio [Opensource LLM integration with Cassandra and Astra DB](https://cassio.org/).\n",
        "\n",
        "## Astra Vector Search\n",
        "Astra vector search enables developers to search a database by context or meaning rather than keywords or literal values. This is done by using “embeddings”. Embeddings are a type of representation used in machine learning where high-dimensional or complex data is mapped onto vectors in a lower-dimensional space. These vectors capture the semantic properties of the input data, meaning that similar data points have similar embeddings.\n",
        "Reference: [Astra Vector Search](https://docs.datastax.com/en/astra-serverless/docs/vector-search/overview.html)\n",
        "\n",
        "## CassIO\n",
        "CassIO is the ultimate solution for seamlessly integrating Apache Cassandra® with generative artificial intelligence and other machine learning workloads. This powerful Python library simplifies the complicated process of accessing the advanced features of the Cassandra database, including vector search capabilities. With CassIO, developers can fully concentrate on designing and perfecting their AI systems without any concerns regarding the complexities of integration with Cassandra.\n",
        "Reference [Cassio](https://cassio.org/)\n",
        "\n",
        "## OpenAI\n",
        "OpenAI provides various tools and resources to implement your own Document QA Search system. This includes pre-trained language models like GPT-3.5, which can understand and generate human-like text. Additionally, OpenAI offers guidelines and APIs to leverage their models for document search and question-answering tasks, enabling developers to build powerful and intelligent Document QA Search applications.\n",
        "Reference: [OpenAI](https://github.com/openai/)\n",
        "\n",
        "## Demo Summary\n",
        "ChatGPT excels at answering questions, but only on topics it remembers from its training data. It offers you a nice dialog interface to ask questions and get answers.\n",
        "\n",
        "But what do you do when you have your onw documents? How can you leverage the GenAI and LLM models to get insights in those?\n",
        "\n",
        "Think of an Q/A Bot that you want to provide to your customers for asking questions against the documentation of your products.\n",
        "\n",
        "For beeing able to do so, you have to implement your own ChatGPT-like solution.\n",
        "The implementation requires\n",
        "1. Analysing your existing documents and store the information\n",
        "2. Providing search capabilities for your questions to get answers\n",
        "\n",
        "This is solve by using a LLM models. Ideally you embedd the data as vectors and store them in a vector database and then use the LLM models on top of that database.\n",
        "\n",
        "This notebook demonstrates a two-step Search-Ask method for enabling GPT to answer questions using a library of reference on your onw documentations based on Astra DB vector search.\n",
        "\n",
        "\n"
      ],
      "id": "cf05e3f2"
    },
    {
      "cell_type": "markdown",
      "metadata": {
        "id": "651400d1"
      },
      "source": [
        "# Getting Started with this notebook\n",
        "\n",
        "These are prerequisites you need to to before running this notebook\n",
        "- Create a new vector search enabled database in Astra.\n",
        "- Create a keyspace\n",
        "- Create a token with permissions to create tables\n",
        "- Download your secure-connect-bundle.zip file\n",
        "- Create an OpenAI account and download an API Key\n",
        "\n",
        "- When you run this notebook, it will ask you for providing the secure-connect-bundle.zip, some text file and client ids, passwords as well as API Key"
      ],
      "id": "651400d1"
    },
    {
      "cell_type": "markdown",
      "metadata": {
        "id": "311cc2e9"
      },
      "source": [
        "# Setup\n",
        "\n",
        "This jupyter notebook was build on Colab. You need to install the following libraries."
      ],
      "id": "311cc2e9"
    },
    {
      "cell_type": "code",
      "execution_count": 23,
      "metadata": {
        "id": "a6d88d66",
        "colab": {
          "base_uri": "https://localhost:8080/"
        },
        "outputId": "e46e6395-299a-4905-b4be-ea3d17e4ef51"
      },
      "outputs": [
        {
          "output_type": "stream",
          "name": "stdout",
          "text": [
            "Requirement already satisfied: cassandra-driver>=3.28.0 in /usr/local/lib/python3.10/dist-packages (3.28.0)\n",
            "Requirement already satisfied: openai==0.27.7 in /usr/local/lib/python3.10/dist-packages (0.27.7)\n",
            "Requirement already satisfied: tiktoken==0.4.0 in /usr/local/lib/python3.10/dist-packages (0.4.0)\n",
            "Requirement already satisfied: langchain>=0.0.218 in /usr/local/lib/python3.10/dist-packages (0.0.225)\n",
            "Requirement already satisfied: cassio==0.0.7 in /usr/local/lib/python3.10/dist-packages (0.0.7)\n",
            "Collecting pypdf\n",
            "  Downloading pypdf-3.12.0-py3-none-any.whl (254 kB)\n",
            "\u001b[?25l     \u001b[90m━━━━━━━━━━━━━━━━━━━━━━━━━━━━━━━━━━━━━━━━\u001b[0m \u001b[32m0.0/254.5 kB\u001b[0m \u001b[31m?\u001b[0m eta \u001b[36m-:--:--\u001b[0m\r\u001b[2K     \u001b[91m━━━━━━━━━━━━━━━━━━━━━━━━━━━━━━━━━━━━\u001b[0m\u001b[90m╺\u001b[0m\u001b[90m━━\u001b[0m \u001b[32m235.5/254.5 kB\u001b[0m \u001b[31m7.8 MB/s\u001b[0m eta \u001b[36m0:00:01\u001b[0m\r\u001b[2K     \u001b[90m━━━━━━━━━━━━━━━━━━━━━━━━━━━━━━━━━━━━━━━\u001b[0m \u001b[32m254.5/254.5 kB\u001b[0m \u001b[31m5.7 MB/s\u001b[0m eta \u001b[36m0:00:00\u001b[0m\n",
            "\u001b[?25hRequirement already satisfied: requests>=2.20 in /usr/local/lib/python3.10/dist-packages (from openai==0.27.7) (2.27.1)\n",
            "Requirement already satisfied: tqdm in /usr/local/lib/python3.10/dist-packages (from openai==0.27.7) (4.65.0)\n",
            "Requirement already satisfied: aiohttp in /usr/local/lib/python3.10/dist-packages (from openai==0.27.7) (3.8.4)\n",
            "Requirement already satisfied: regex>=2022.1.18 in /usr/local/lib/python3.10/dist-packages (from tiktoken==0.4.0) (2022.10.31)\n",
            "Requirement already satisfied: numpy>=1.0 in /usr/local/lib/python3.10/dist-packages (from cassio==0.0.7) (1.22.4)\n",
            "Requirement already satisfied: six>=1.9 in /usr/local/lib/python3.10/dist-packages (from cassandra-driver>=3.28.0) (1.16.0)\n",
            "Requirement already satisfied: geomet<0.3,>=0.1 in /usr/local/lib/python3.10/dist-packages (from cassandra-driver>=3.28.0) (0.2.1.post1)\n",
            "Requirement already satisfied: PyYAML>=5.4.1 in /usr/local/lib/python3.10/dist-packages (from langchain>=0.0.218) (6.0)\n",
            "Requirement already satisfied: SQLAlchemy<3,>=1.4 in /usr/local/lib/python3.10/dist-packages (from langchain>=0.0.218) (2.0.16)\n",
            "Requirement already satisfied: async-timeout<5.0.0,>=4.0.0 in /usr/local/lib/python3.10/dist-packages (from langchain>=0.0.218) (4.0.2)\n",
            "Requirement already satisfied: dataclasses-json<0.6.0,>=0.5.7 in /usr/local/lib/python3.10/dist-packages (from langchain>=0.0.218) (0.5.9)\n",
            "Requirement already satisfied: langchainplus-sdk<0.0.21,>=0.0.20 in /usr/local/lib/python3.10/dist-packages (from langchain>=0.0.218) (0.0.20)\n",
            "Requirement already satisfied: numexpr<3.0.0,>=2.8.4 in /usr/local/lib/python3.10/dist-packages (from langchain>=0.0.218) (2.8.4)\n",
            "Requirement already satisfied: openapi-schema-pydantic<2.0,>=1.2 in /usr/local/lib/python3.10/dist-packages (from langchain>=0.0.218) (1.2.4)\n",
            "Requirement already satisfied: pydantic<2,>=1 in /usr/local/lib/python3.10/dist-packages (from langchain>=0.0.218) (1.10.9)\n",
            "Requirement already satisfied: tenacity<9.0.0,>=8.1.0 in /usr/local/lib/python3.10/dist-packages (from langchain>=0.0.218) (8.2.2)\n",
            "Requirement already satisfied: attrs>=17.3.0 in /usr/local/lib/python3.10/dist-packages (from aiohttp->openai==0.27.7) (23.1.0)\n",
            "Requirement already satisfied: charset-normalizer<4.0,>=2.0 in /usr/local/lib/python3.10/dist-packages (from aiohttp->openai==0.27.7) (2.0.12)\n",
            "Requirement already satisfied: multidict<7.0,>=4.5 in /usr/local/lib/python3.10/dist-packages (from aiohttp->openai==0.27.7) (6.0.4)\n",
            "Requirement already satisfied: yarl<2.0,>=1.0 in /usr/local/lib/python3.10/dist-packages (from aiohttp->openai==0.27.7) (1.9.2)\n",
            "Requirement already satisfied: frozenlist>=1.1.1 in /usr/local/lib/python3.10/dist-packages (from aiohttp->openai==0.27.7) (1.3.3)\n",
            "Requirement already satisfied: aiosignal>=1.1.2 in /usr/local/lib/python3.10/dist-packages (from aiohttp->openai==0.27.7) (1.3.1)\n",
            "Requirement already satisfied: marshmallow<4.0.0,>=3.3.0 in /usr/local/lib/python3.10/dist-packages (from dataclasses-json<0.6.0,>=0.5.7->langchain>=0.0.218) (3.19.0)\n",
            "Requirement already satisfied: marshmallow-enum<2.0.0,>=1.5.1 in /usr/local/lib/python3.10/dist-packages (from dataclasses-json<0.6.0,>=0.5.7->langchain>=0.0.218) (1.5.1)\n",
            "Requirement already satisfied: typing-inspect>=0.4.0 in /usr/local/lib/python3.10/dist-packages (from dataclasses-json<0.6.0,>=0.5.7->langchain>=0.0.218) (0.9.0)\n",
            "Requirement already satisfied: click in /usr/local/lib/python3.10/dist-packages (from geomet<0.3,>=0.1->cassandra-driver>=3.28.0) (8.1.3)\n",
            "Requirement already satisfied: typing-extensions>=4.2.0 in /usr/local/lib/python3.10/dist-packages (from pydantic<2,>=1->langchain>=0.0.218) (4.6.3)\n",
            "Requirement already satisfied: urllib3<1.27,>=1.21.1 in /usr/local/lib/python3.10/dist-packages (from requests>=2.20->openai==0.27.7) (1.26.16)\n",
            "Requirement already satisfied: certifi>=2017.4.17 in /usr/local/lib/python3.10/dist-packages (from requests>=2.20->openai==0.27.7) (2023.5.7)\n",
            "Requirement already satisfied: idna<4,>=2.5 in /usr/local/lib/python3.10/dist-packages (from requests>=2.20->openai==0.27.7) (3.4)\n",
            "Requirement already satisfied: greenlet!=0.4.17 in /usr/local/lib/python3.10/dist-packages (from SQLAlchemy<3,>=1.4->langchain>=0.0.218) (2.0.2)\n",
            "Requirement already satisfied: packaging>=17.0 in /usr/local/lib/python3.10/dist-packages (from marshmallow<4.0.0,>=3.3.0->dataclasses-json<0.6.0,>=0.5.7->langchain>=0.0.218) (23.1)\n",
            "Requirement already satisfied: mypy-extensions>=0.3.0 in /usr/local/lib/python3.10/dist-packages (from typing-inspect>=0.4.0->dataclasses-json<0.6.0,>=0.5.7->langchain>=0.0.218) (1.0.0)\n",
            "Installing collected packages: pypdf\n",
            "Successfully installed pypdf-3.12.0\n"
          ]
        }
      ],
      "source": [
        "# install required dependencies\n",
        "! pip install \\\n",
        "    \"cassandra-driver>=3.28.0\" \\\n",
        "    \"openai==0.27.7\" \\\n",
        "    \"tiktoken==0.4.0\" \\\n",
        "    \"langchain>=0.0.218\" \\\n",
        "    \"cassio==0.0.7\" \\\n",
        "    \"pypdf\""
      ],
      "id": "a6d88d66"
    },
    {
      "cell_type": "markdown",
      "metadata": {
        "id": "ae20e0b5"
      },
      "source": [
        "# Imports"
      ],
      "id": "ae20e0b5"
    },
    {
      "cell_type": "code",
      "execution_count": null,
      "metadata": {
        "id": "16f9f33a"
      },
      "outputs": [],
      "source": [
        "# Imports for our environment and accessing Astra DB\n",
        "import os\n",
        "\n",
        "import getpass\n",
        "from cassandra.cluster import Cluster\n",
        "from cassandra.auth import PlainTextAuthProvider\n",
        "from google.colab import files"
      ],
      "id": "16f9f33a"
    },
    {
      "cell_type": "markdown",
      "metadata": {
        "id": "4df2888e"
      },
      "source": [
        "# Astra DB configuration, connection bundle and token secrets\n",
        "\n",
        "You will need a secure connect bundle and a user with access permission. For demo purposes the \"administrator\" role will work fine.\n",
        "More information about how to get the bundle can be found [here](https://docs.datastax.com/en/astra-serverless/docs/connect/secure-connect-bundle.html)."
      ],
      "id": "4df2888e"
    },
    {
      "cell_type": "code",
      "execution_count": 60,
      "metadata": {
        "id": "QvY0HTqm3chY",
        "colab": {
          "base_uri": "https://localhost:8080/",
          "height": 90
        },
        "outputId": "e2f6529e-c3ab-4f07-db9c-09f0243ffa4c"
      },
      "outputs": [
        {
          "output_type": "stream",
          "name": "stdout",
          "text": [
            "Please upload your Secure Connect Bundle\n"
          ]
        },
        {
          "output_type": "display_data",
          "data": {
            "text/plain": [
              "<IPython.core.display.HTML object>"
            ],
            "text/html": [
              "\n",
              "     <input type=\"file\" id=\"files-f9cd9d56-0561-4af1-943c-f1ca9d8972b1\" name=\"files[]\" multiple disabled\n",
              "        style=\"border:none\" />\n",
              "     <output id=\"result-f9cd9d56-0561-4af1-943c-f1ca9d8972b1\">\n",
              "      Upload widget is only available when the cell has been executed in the\n",
              "      current browser session. Please rerun this cell to enable.\n",
              "      </output>\n",
              "      <script>// Copyright 2017 Google LLC\n",
              "//\n",
              "// Licensed under the Apache License, Version 2.0 (the \"License\");\n",
              "// you may not use this file except in compliance with the License.\n",
              "// You may obtain a copy of the License at\n",
              "//\n",
              "//      http://www.apache.org/licenses/LICENSE-2.0\n",
              "//\n",
              "// Unless required by applicable law or agreed to in writing, software\n",
              "// distributed under the License is distributed on an \"AS IS\" BASIS,\n",
              "// WITHOUT WARRANTIES OR CONDITIONS OF ANY KIND, either express or implied.\n",
              "// See the License for the specific language governing permissions and\n",
              "// limitations under the License.\n",
              "\n",
              "/**\n",
              " * @fileoverview Helpers for google.colab Python module.\n",
              " */\n",
              "(function(scope) {\n",
              "function span(text, styleAttributes = {}) {\n",
              "  const element = document.createElement('span');\n",
              "  element.textContent = text;\n",
              "  for (const key of Object.keys(styleAttributes)) {\n",
              "    element.style[key] = styleAttributes[key];\n",
              "  }\n",
              "  return element;\n",
              "}\n",
              "\n",
              "// Max number of bytes which will be uploaded at a time.\n",
              "const MAX_PAYLOAD_SIZE = 100 * 1024;\n",
              "\n",
              "function _uploadFiles(inputId, outputId) {\n",
              "  const steps = uploadFilesStep(inputId, outputId);\n",
              "  const outputElement = document.getElementById(outputId);\n",
              "  // Cache steps on the outputElement to make it available for the next call\n",
              "  // to uploadFilesContinue from Python.\n",
              "  outputElement.steps = steps;\n",
              "\n",
              "  return _uploadFilesContinue(outputId);\n",
              "}\n",
              "\n",
              "// This is roughly an async generator (not supported in the browser yet),\n",
              "// where there are multiple asynchronous steps and the Python side is going\n",
              "// to poll for completion of each step.\n",
              "// This uses a Promise to block the python side on completion of each step,\n",
              "// then passes the result of the previous step as the input to the next step.\n",
              "function _uploadFilesContinue(outputId) {\n",
              "  const outputElement = document.getElementById(outputId);\n",
              "  const steps = outputElement.steps;\n",
              "\n",
              "  const next = steps.next(outputElement.lastPromiseValue);\n",
              "  return Promise.resolve(next.value.promise).then((value) => {\n",
              "    // Cache the last promise value to make it available to the next\n",
              "    // step of the generator.\n",
              "    outputElement.lastPromiseValue = value;\n",
              "    return next.value.response;\n",
              "  });\n",
              "}\n",
              "\n",
              "/**\n",
              " * Generator function which is called between each async step of the upload\n",
              " * process.\n",
              " * @param {string} inputId Element ID of the input file picker element.\n",
              " * @param {string} outputId Element ID of the output display.\n",
              " * @return {!Iterable<!Object>} Iterable of next steps.\n",
              " */\n",
              "function* uploadFilesStep(inputId, outputId) {\n",
              "  const inputElement = document.getElementById(inputId);\n",
              "  inputElement.disabled = false;\n",
              "\n",
              "  const outputElement = document.getElementById(outputId);\n",
              "  outputElement.innerHTML = '';\n",
              "\n",
              "  const pickedPromise = new Promise((resolve) => {\n",
              "    inputElement.addEventListener('change', (e) => {\n",
              "      resolve(e.target.files);\n",
              "    });\n",
              "  });\n",
              "\n",
              "  const cancel = document.createElement('button');\n",
              "  inputElement.parentElement.appendChild(cancel);\n",
              "  cancel.textContent = 'Cancel upload';\n",
              "  const cancelPromise = new Promise((resolve) => {\n",
              "    cancel.onclick = () => {\n",
              "      resolve(null);\n",
              "    };\n",
              "  });\n",
              "\n",
              "  // Wait for the user to pick the files.\n",
              "  const files = yield {\n",
              "    promise: Promise.race([pickedPromise, cancelPromise]),\n",
              "    response: {\n",
              "      action: 'starting',\n",
              "    }\n",
              "  };\n",
              "\n",
              "  cancel.remove();\n",
              "\n",
              "  // Disable the input element since further picks are not allowed.\n",
              "  inputElement.disabled = true;\n",
              "\n",
              "  if (!files) {\n",
              "    return {\n",
              "      response: {\n",
              "        action: 'complete',\n",
              "      }\n",
              "    };\n",
              "  }\n",
              "\n",
              "  for (const file of files) {\n",
              "    const li = document.createElement('li');\n",
              "    li.append(span(file.name, {fontWeight: 'bold'}));\n",
              "    li.append(span(\n",
              "        `(${file.type || 'n/a'}) - ${file.size} bytes, ` +\n",
              "        `last modified: ${\n",
              "            file.lastModifiedDate ? file.lastModifiedDate.toLocaleDateString() :\n",
              "                                    'n/a'} - `));\n",
              "    const percent = span('0% done');\n",
              "    li.appendChild(percent);\n",
              "\n",
              "    outputElement.appendChild(li);\n",
              "\n",
              "    const fileDataPromise = new Promise((resolve) => {\n",
              "      const reader = new FileReader();\n",
              "      reader.onload = (e) => {\n",
              "        resolve(e.target.result);\n",
              "      };\n",
              "      reader.readAsArrayBuffer(file);\n",
              "    });\n",
              "    // Wait for the data to be ready.\n",
              "    let fileData = yield {\n",
              "      promise: fileDataPromise,\n",
              "      response: {\n",
              "        action: 'continue',\n",
              "      }\n",
              "    };\n",
              "\n",
              "    // Use a chunked sending to avoid message size limits. See b/62115660.\n",
              "    let position = 0;\n",
              "    do {\n",
              "      const length = Math.min(fileData.byteLength - position, MAX_PAYLOAD_SIZE);\n",
              "      const chunk = new Uint8Array(fileData, position, length);\n",
              "      position += length;\n",
              "\n",
              "      const base64 = btoa(String.fromCharCode.apply(null, chunk));\n",
              "      yield {\n",
              "        response: {\n",
              "          action: 'append',\n",
              "          file: file.name,\n",
              "          data: base64,\n",
              "        },\n",
              "      };\n",
              "\n",
              "      let percentDone = fileData.byteLength === 0 ?\n",
              "          100 :\n",
              "          Math.round((position / fileData.byteLength) * 100);\n",
              "      percent.textContent = `${percentDone}% done`;\n",
              "\n",
              "    } while (position < fileData.byteLength);\n",
              "  }\n",
              "\n",
              "  // All done.\n",
              "  yield {\n",
              "    response: {\n",
              "      action: 'complete',\n",
              "    }\n",
              "  };\n",
              "}\n",
              "\n",
              "scope.google = scope.google || {};\n",
              "scope.google.colab = scope.google.colab || {};\n",
              "scope.google.colab._files = {\n",
              "  _uploadFiles,\n",
              "  _uploadFilesContinue,\n",
              "};\n",
              "})(self);\n",
              "</script> "
            ]
          },
          "metadata": {}
        },
        {
          "output_type": "stream",
          "name": "stdout",
          "text": [
            "Saving secure-connect-documentation.zip to secure-connect-documentation (1).zip\n"
          ]
        }
      ],
      "source": [
        "#upload secure connect bundle\n",
        "print('Please upload your Secure Connect Bundle')\n",
        "uploaded = files.upload()\n",
        "if uploaded:\n",
        "    astraBundleFileTitle = list(uploaded.keys())[0]\n",
        "    SECURE_CONNECT_BUNDLE_PATH = os.path.join(os.getcwd(), astraBundleFileTitle)\n",
        "else:\n",
        "    raise ValueError(\n",
        "        'Cannot proceed without Secure Connect Bundle. Please re-run the cell.'\n",
        "    )\n",
        "#Alternatively upload to the environment and reference it here\n",
        "#SECURE_CONNECT_BUNDLE_PATH = '/content/secure-connect-documentation.zip'\n"
      ],
      "id": "QvY0HTqm3chY"
    },
    {
      "cell_type": "code",
      "execution_count": null,
      "metadata": {
        "id": "39b4b87b"
      },
      "outputs": [],
      "source": [
        "ASTRA_DB_TOKEN_BASED_USERNAME = getpass.getpass('What Astra DB token username do you want to use? ')\n",
        "#ASTRA_DB_TOKEN_BASED_USERNAME = '<<ENTER>>'"
      ],
      "id": "39b4b87b"
    },
    {
      "cell_type": "code",
      "execution_count": null,
      "metadata": {
        "id": "38EAz0Kupms-"
      },
      "outputs": [],
      "source": [
        "ASTRA_DB_TOKEN_BASED_PASSWORD = getpass.getpass('What Astra DB token password do you want to use? ')\n",
        "#ASTRA_DB_TOKEN_BASED_PASSWORD = '<<ENTER>>'"
      ],
      "id": "38EAz0Kupms-"
    },
    {
      "cell_type": "code",
      "execution_count": null,
      "metadata": {
        "id": "YZqO7R66hmMU"
      },
      "outputs": [],
      "source": [
        "ASTRA_DB_KEYSPACE = input(f'Which Astra DB keypsace do you want to use? ')\n",
        "#ASTRA_DB_KEYSPACE = 'mykeyspace'"
      ],
      "id": "YZqO7R66hmMU"
    },
    {
      "cell_type": "markdown",
      "metadata": {
        "id": "tyZ1IC4d3U15"
      },
      "source": [
        "# Provide Sample Data\n",
        "If you want to provide some docoments, you can upload them here.\n",
        "As a sample document you can also download some text here:"
      ],
      "id": "tyZ1IC4d3U15"
    },
    {
      "cell_type": "code",
      "execution_count": 69,
      "metadata": {
        "colab": {
          "base_uri": "https://localhost:8080/"
        },
        "id": "1VsVGojG663U",
        "outputId": "c095f9b7-1533-411f-b453-859dddda8276"
      },
      "outputs": [
        {
          "output_type": "stream",
          "name": "stdout",
          "text": [
            "  % Total    % Received % Xferd  Average Speed   Time    Time     Time  Current\n",
            "                                 Dload  Upload   Total   Spent    Left  Speed\n",
            "\r  0     0    0     0    0     0      0      0 --:--:-- --:--:-- --:--:--     0\r 59 13022   59  7709    0     0  45886      0 --:--:-- --:--:-- --:--:-- 45615\r100 13022  100 13022    0     0  77511      0 --:--:-- --:--:-- --:--:-- 77053\n"
          ]
        }
      ],
      "source": [
        "# retrieve the text of a short story that will be indexed in the vector store\n",
        "! curl https://raw.githubusercontent.com/CassioML/cassio-website/main/docs/frameworks/langchain/texts/amontillado.txt --output amontillado.txt\n",
        "SAMPLEDATA = [\"amontillado.txt\"]"
      ],
      "id": "1VsVGojG663U"
    },
    {
      "cell_type": "code",
      "execution_count": 61,
      "metadata": {
        "id": "PjxwchCO3n_8",
        "colab": {
          "base_uri": "https://localhost:8080/",
          "height": 125
        },
        "outputId": "418baa82-50c6-4afb-c6ff-bf13a50a6333"
      },
      "outputs": [
        {
          "output_type": "stream",
          "name": "stdout",
          "text": [
            "Please upload your own sample file:\n"
          ]
        },
        {
          "output_type": "display_data",
          "data": {
            "text/plain": [
              "<IPython.core.display.HTML object>"
            ],
            "text/html": [
              "\n",
              "     <input type=\"file\" id=\"files-3d6259ca-3fc8-4074-b4b4-89ca5916b6de\" name=\"files[]\" multiple disabled\n",
              "        style=\"border:none\" />\n",
              "     <output id=\"result-3d6259ca-3fc8-4074-b4b4-89ca5916b6de\">\n",
              "      Upload widget is only available when the cell has been executed in the\n",
              "      current browser session. Please rerun this cell to enable.\n",
              "      </output>\n",
              "      <script>// Copyright 2017 Google LLC\n",
              "//\n",
              "// Licensed under the Apache License, Version 2.0 (the \"License\");\n",
              "// you may not use this file except in compliance with the License.\n",
              "// You may obtain a copy of the License at\n",
              "//\n",
              "//      http://www.apache.org/licenses/LICENSE-2.0\n",
              "//\n",
              "// Unless required by applicable law or agreed to in writing, software\n",
              "// distributed under the License is distributed on an \"AS IS\" BASIS,\n",
              "// WITHOUT WARRANTIES OR CONDITIONS OF ANY KIND, either express or implied.\n",
              "// See the License for the specific language governing permissions and\n",
              "// limitations under the License.\n",
              "\n",
              "/**\n",
              " * @fileoverview Helpers for google.colab Python module.\n",
              " */\n",
              "(function(scope) {\n",
              "function span(text, styleAttributes = {}) {\n",
              "  const element = document.createElement('span');\n",
              "  element.textContent = text;\n",
              "  for (const key of Object.keys(styleAttributes)) {\n",
              "    element.style[key] = styleAttributes[key];\n",
              "  }\n",
              "  return element;\n",
              "}\n",
              "\n",
              "// Max number of bytes which will be uploaded at a time.\n",
              "const MAX_PAYLOAD_SIZE = 100 * 1024;\n",
              "\n",
              "function _uploadFiles(inputId, outputId) {\n",
              "  const steps = uploadFilesStep(inputId, outputId);\n",
              "  const outputElement = document.getElementById(outputId);\n",
              "  // Cache steps on the outputElement to make it available for the next call\n",
              "  // to uploadFilesContinue from Python.\n",
              "  outputElement.steps = steps;\n",
              "\n",
              "  return _uploadFilesContinue(outputId);\n",
              "}\n",
              "\n",
              "// This is roughly an async generator (not supported in the browser yet),\n",
              "// where there are multiple asynchronous steps and the Python side is going\n",
              "// to poll for completion of each step.\n",
              "// This uses a Promise to block the python side on completion of each step,\n",
              "// then passes the result of the previous step as the input to the next step.\n",
              "function _uploadFilesContinue(outputId) {\n",
              "  const outputElement = document.getElementById(outputId);\n",
              "  const steps = outputElement.steps;\n",
              "\n",
              "  const next = steps.next(outputElement.lastPromiseValue);\n",
              "  return Promise.resolve(next.value.promise).then((value) => {\n",
              "    // Cache the last promise value to make it available to the next\n",
              "    // step of the generator.\n",
              "    outputElement.lastPromiseValue = value;\n",
              "    return next.value.response;\n",
              "  });\n",
              "}\n",
              "\n",
              "/**\n",
              " * Generator function which is called between each async step of the upload\n",
              " * process.\n",
              " * @param {string} inputId Element ID of the input file picker element.\n",
              " * @param {string} outputId Element ID of the output display.\n",
              " * @return {!Iterable<!Object>} Iterable of next steps.\n",
              " */\n",
              "function* uploadFilesStep(inputId, outputId) {\n",
              "  const inputElement = document.getElementById(inputId);\n",
              "  inputElement.disabled = false;\n",
              "\n",
              "  const outputElement = document.getElementById(outputId);\n",
              "  outputElement.innerHTML = '';\n",
              "\n",
              "  const pickedPromise = new Promise((resolve) => {\n",
              "    inputElement.addEventListener('change', (e) => {\n",
              "      resolve(e.target.files);\n",
              "    });\n",
              "  });\n",
              "\n",
              "  const cancel = document.createElement('button');\n",
              "  inputElement.parentElement.appendChild(cancel);\n",
              "  cancel.textContent = 'Cancel upload';\n",
              "  const cancelPromise = new Promise((resolve) => {\n",
              "    cancel.onclick = () => {\n",
              "      resolve(null);\n",
              "    };\n",
              "  });\n",
              "\n",
              "  // Wait for the user to pick the files.\n",
              "  const files = yield {\n",
              "    promise: Promise.race([pickedPromise, cancelPromise]),\n",
              "    response: {\n",
              "      action: 'starting',\n",
              "    }\n",
              "  };\n",
              "\n",
              "  cancel.remove();\n",
              "\n",
              "  // Disable the input element since further picks are not allowed.\n",
              "  inputElement.disabled = true;\n",
              "\n",
              "  if (!files) {\n",
              "    return {\n",
              "      response: {\n",
              "        action: 'complete',\n",
              "      }\n",
              "    };\n",
              "  }\n",
              "\n",
              "  for (const file of files) {\n",
              "    const li = document.createElement('li');\n",
              "    li.append(span(file.name, {fontWeight: 'bold'}));\n",
              "    li.append(span(\n",
              "        `(${file.type || 'n/a'}) - ${file.size} bytes, ` +\n",
              "        `last modified: ${\n",
              "            file.lastModifiedDate ? file.lastModifiedDate.toLocaleDateString() :\n",
              "                                    'n/a'} - `));\n",
              "    const percent = span('0% done');\n",
              "    li.appendChild(percent);\n",
              "\n",
              "    outputElement.appendChild(li);\n",
              "\n",
              "    const fileDataPromise = new Promise((resolve) => {\n",
              "      const reader = new FileReader();\n",
              "      reader.onload = (e) => {\n",
              "        resolve(e.target.result);\n",
              "      };\n",
              "      reader.readAsArrayBuffer(file);\n",
              "    });\n",
              "    // Wait for the data to be ready.\n",
              "    let fileData = yield {\n",
              "      promise: fileDataPromise,\n",
              "      response: {\n",
              "        action: 'continue',\n",
              "      }\n",
              "    };\n",
              "\n",
              "    // Use a chunked sending to avoid message size limits. See b/62115660.\n",
              "    let position = 0;\n",
              "    do {\n",
              "      const length = Math.min(fileData.byteLength - position, MAX_PAYLOAD_SIZE);\n",
              "      const chunk = new Uint8Array(fileData, position, length);\n",
              "      position += length;\n",
              "\n",
              "      const base64 = btoa(String.fromCharCode.apply(null, chunk));\n",
              "      yield {\n",
              "        response: {\n",
              "          action: 'append',\n",
              "          file: file.name,\n",
              "          data: base64,\n",
              "        },\n",
              "      };\n",
              "\n",
              "      let percentDone = fileData.byteLength === 0 ?\n",
              "          100 :\n",
              "          Math.round((position / fileData.byteLength) * 100);\n",
              "      percent.textContent = `${percentDone}% done`;\n",
              "\n",
              "    } while (position < fileData.byteLength);\n",
              "  }\n",
              "\n",
              "  // All done.\n",
              "  yield {\n",
              "    response: {\n",
              "      action: 'complete',\n",
              "    }\n",
              "  };\n",
              "}\n",
              "\n",
              "scope.google = scope.google || {};\n",
              "scope.google.colab = scope.google.colab || {};\n",
              "scope.google.colab._files = {\n",
              "  _uploadFiles,\n",
              "  _uploadFilesContinue,\n",
              "};\n",
              "})(self);\n",
              "</script> "
            ]
          },
          "metadata": {}
        },
        {
          "output_type": "stream",
          "name": "stdout",
          "text": [
            "Saving Customer_Case_Study_Netflix.pdf to Customer_Case_Study_Netflix.pdf\n",
            "Saving Customer_Case_Study_eBay.pdf to Customer_Case_Study_eBay.pdf\n"
          ]
        }
      ],
      "source": [
        "# Alternatively you can provide your own file - please consider to customize the queries at the end of the notebook to match your content.\n",
        "#provide some sample files\n",
        "print('Please upload your own sample file:')\n",
        "uploaded = files.upload()\n",
        "if uploaded:\n",
        "    #sampleDataFileTitle = list(uploaded.keys()[0])\n",
        "    #SAMPLEDATA_PATH = os.path.join(os.getcwd(), sampleDataFileTitle)\n",
        "    SAMPLEDATA = uploaded\n",
        "else:\n",
        "    raise ValueError(\n",
        "        'Cannot proceed without Sample Data. Please re-run the cell.'\n",
        "    )"
      ],
      "id": "PjxwchCO3n_8"
    },
    {
      "cell_type": "markdown",
      "metadata": {
        "id": "33e090e7"
      },
      "source": [
        "# Connect to Astra DB"
      ],
      "id": "33e090e7"
    },
    {
      "cell_type": "code",
      "execution_count": 62,
      "metadata": {
        "id": "e8c527a1",
        "colab": {
          "base_uri": "https://localhost:8080/"
        },
        "outputId": "f5aa617d-67c0-4cc9-fde1-0c7cd68373d4"
      },
      "outputs": [
        {
          "output_type": "stream",
          "name": "stderr",
          "text": [
            "WARNING:cassandra.cluster:Downgrading core protocol version from 66 to 65 for cfe0851c-36a8-420c-9b15-ac1200c177c7-us-east1.db.astra.datastax.com:29042:923a1564-a24c-4d30-a97c-ef47bce2ad18. To avoid this, it is best practice to explicitly set Cluster(protocol_version) to the version supported by your cluster. http://datastax.github.io/python-driver/api/cassandra/cluster.html#cassandra.cluster.Cluster.protocol_version\n",
            "WARNING:cassandra.cluster:Downgrading core protocol version from 65 to 5 for cfe0851c-36a8-420c-9b15-ac1200c177c7-us-east1.db.astra.datastax.com:29042:923a1564-a24c-4d30-a97c-ef47bce2ad18. To avoid this, it is best practice to explicitly set Cluster(protocol_version) to the version supported by your cluster. http://datastax.github.io/python-driver/api/cassandra/cluster.html#cassandra.cluster.Cluster.protocol_version\n",
            "ERROR:cassandra.connection:Closing connection <AsyncoreConnection(140334051140528) cfe0851c-36a8-420c-9b15-ac1200c177c7-us-east1.db.astra.datastax.com:29042:923a1564-a24c-4d30-a97c-ef47bce2ad18> due to protocol error: Error from server: code=000a [Protocol error] message=\"Beta version of the protocol used (5/v5-beta), but USE_BETA flag is unset\"\n",
            "WARNING:cassandra.cluster:Downgrading core protocol version from 5 to 4 for cfe0851c-36a8-420c-9b15-ac1200c177c7-us-east1.db.astra.datastax.com:29042:923a1564-a24c-4d30-a97c-ef47bce2ad18. To avoid this, it is best practice to explicitly set Cluster(protocol_version) to the version supported by your cluster. http://datastax.github.io/python-driver/api/cassandra/cluster.html#cassandra.cluster.Cluster.protocol_version\n"
          ]
        }
      ],
      "source": [
        "# make sure that you can connect to Astra DB - if you see errors, then have a look at the environment you configured earlier\n",
        "\n",
        "cloud_config = {\n",
        "   'secure_connect_bundle': SECURE_CONNECT_BUNDLE_PATH\n",
        "}\n",
        "auth_provider = PlainTextAuthProvider(ASTRA_DB_TOKEN_BASED_USERNAME, ASTRA_DB_TOKEN_BASED_PASSWORD)\n",
        "cluster = Cluster(cloud=cloud_config, auth_provider=auth_provider)\n",
        "session = cluster.connect()"
      ],
      "id": "e8c527a1"
    },
    {
      "cell_type": "markdown",
      "metadata": {
        "id": "8251382e"
      },
      "source": [
        "# Read files, Create Embeddings, Store in Vector DB\n",
        "\n",
        "CassIO seamlessly integrates with LangChain, offering Cassandra-specific tools for many tasks. In our example we will use vector stores, indexers, embeddings and queries.\n",
        "\n",
        "And we will use OpenAI for our LLM services. (See Pre-requisites on [cassio.org](https://cassio.org/start_here/#llm-access) for more details)."
      ],
      "id": "8251382e"
    },
    {
      "cell_type": "code",
      "execution_count": 63,
      "metadata": {
        "id": "J5VPZclr6n67",
        "colab": {
          "base_uri": "https://localhost:8080/"
        },
        "outputId": "da83f46a-211c-41fe-eab0-fdb57c0ee74f"
      },
      "outputs": [
        {
          "name": "stdout",
          "output_type": "stream",
          "text": [
            "Your secret for LLM provider OpenAI: ··········\n"
          ]
        }
      ],
      "source": [
        "# Set your secret(s) for LLM access:\n",
        "# we will use OpenAI embeddings, so please provide your OpenAI AKP Key\n",
        "apiSecret = getpass.getpass('Your secret for LLM provider OpenAI: ')\n",
        "#apiSecret = \"<<ENTER>>\"\n",
        "os.environ['OPENAI_API_KEY'] = apiSecret"
      ],
      "id": "J5VPZclr6n67"
    },
    {
      "cell_type": "code",
      "execution_count": 70,
      "metadata": {
        "id": "TE5pZsfs7iPT",
        "colab": {
          "base_uri": "https://localhost:8080/"
        },
        "outputId": "ed1b7ab1-e2c8-4406-b19e-5d4eff9f9d47"
      },
      "outputs": [
        {
          "output_type": "stream",
          "name": "stdout",
          "text": [
            "Processed TXT file: amontillado.txt\n"
          ]
        },
        {
          "output_type": "stream",
          "name": "stderr",
          "text": [
            "100%|██████████| 1/1 [00:00<00:00,  2.51it/s]"
          ]
        },
        {
          "output_type": "stream",
          "name": "stdout",
          "text": [
            "\n",
            "Processing done.\n"
          ]
        },
        {
          "output_type": "stream",
          "name": "stderr",
          "text": [
            "\n"
          ]
        }
      ],
      "source": [
        "#Import the needed libraries and declare the LLM model\n",
        "import langchain\n",
        "from langchain.embeddings import OpenAIEmbeddings\n",
        "from langchain.text_splitter import CharacterTextSplitter\n",
        "from langchain.vectorstores import Cassandra\n",
        "from langchain.document_loaders import TextLoader\n",
        "from langchain.document_loaders import PyPDFLoader\n",
        "import os\n",
        "\n",
        "# define the embedding function to use\n",
        "embedding_function = OpenAIEmbeddings()\n",
        "\n",
        "#define the table name to be used to store our embeddings, Cassio will create the objects in Astra DB for you.\n",
        "ASTRA_DB_TABLE_NAME = 'vdocuments'\n",
        "\n",
        "\n",
        "# now loop through all files uploaded and process them\n",
        "for elem in SAMPLEDATA:\n",
        "  filename = elem\n",
        "  doc_path = os.path.join(os.getcwd(), filename)\n",
        "\n",
        "  # check which filetype they are and parse them (loader)\n",
        "  # check if the file is a PDF\n",
        "  if filename.endswith(\".pdf\"):\n",
        "\t\t# load the PDF file\n",
        "    loader = PyPDFLoader(doc_path)\n",
        "    pages = loader.load_and_split()\n",
        "    print(f\"Processed PDF file: {filename}\")\n",
        "\n",
        "  # check if the file is a TXT\n",
        "  elif filename.endswith(\".txt\"):\n",
        "    loader = TextLoader(doc_path)\n",
        "    pages = loader.load_and_split()\n",
        "    print(f\"Processed TXT file: {filename}\")\n",
        "\n",
        "  # other files will not be processed\n",
        "  else:\n",
        "    # handle the case where the file has an unsupported extension\n",
        "    print(f\"Unsupported file type: {filename}\")\n",
        "\n",
        "\n",
        "  # if any file was loaded, proceed\n",
        "  if len(pages) >0:\n",
        "\n",
        "    #create a vector store object for the document, that will automatically embedd it\n",
        "    cassVStore = Cassandra.from_documents(\n",
        "      documents=pages,\n",
        "      embedding=embedding_function,\n",
        "      session=session,\n",
        "      keyspace=ASTRA_DB_KEYSPACE,\n",
        "      table_name=ASTRA_DB_TABLE_NAME,\n",
        "    )\n",
        "\n",
        "    # now clean up\n",
        "    # delete the file\n",
        "    os.remove(doc_path)\n",
        "    # empty pages\n",
        "    pages = \"\"\n",
        "\n",
        "# empty the list of file names, just in case this block is run twice.\n",
        "SAMPLEDATA = []\n",
        "\n",
        "print(f\"\\nProcessing done.\")"
      ],
      "id": "TE5pZsfs7iPT"
    },
    {
      "cell_type": "code",
      "source": [
        "# just in case this demo runs multiple times and you want to clean up, run this:\n",
        "#cassVStore.clear()"
      ],
      "metadata": {
        "id": "U-GWCC2cCHgF"
      },
      "id": "U-GWCC2cCHgF",
      "execution_count": 59,
      "outputs": []
    },
    {
      "cell_type": "markdown",
      "source": [
        "# Now Query the Data and execute some \"searches\" against it\n",
        "First we will start with a similarity search using the Vectorstore's implementation"
      ],
      "metadata": {
        "id": "oTEglBjbaHDj"
      },
      "id": "oTEglBjbaHDj"
    },
    {
      "cell_type": "code",
      "source": [
        "# similarity search:\n",
        "prompt = \"What die Luchesi say about Nitro?\"\n",
        "\n",
        "# matched_docs is a list with the found documents from the similarity search\n",
        "matched_docs = cassVStore.similarity_search(prompt)\n",
        "# for each of the found documents, print the content\n",
        "for i, d in enumerate(matched_docs):\n",
        "    print(f\"\\n## Document {i}\\n\")\n",
        "    print(d.page_content)"
      ],
      "metadata": {
        "id": "yaFkjaAnCIRw",
        "colab": {
          "base_uri": "https://localhost:8080/"
        },
        "outputId": "8071dab3-d09b-42af-936b-fbd01d363a1f"
      },
      "id": "yaFkjaAnCIRw",
      "execution_count": 71,
      "outputs": [
        {
          "output_type": "stream",
          "name": "stdout",
          "text": [
            "\n",
            "## Document 0\n",
            "\n",
            "I took from their sconces two flambeaux, and giving one to Fortunato,\n",
            "bowed him through several suites of rooms to the archway that led into\n",
            "the vaults.  I passed down a long and winding staircase, requesting him\n",
            "to be cautious as he followed. We came at length to the foot of the\n",
            "descent, and stood together on the damp ground of the catacombs of the\n",
            "Montresors.\n",
            "\n",
            "The gait of my friend was unsteady, and the bells upon his cap jingled\n",
            "as he strode.\n",
            "\n",
            "\"The pipe,\" said he.\n",
            "\n",
            "\"It is farther on,\" said I; \"but observe the white web-work which\n",
            "gleams from these cavern walls.\"\n",
            "\n",
            "He turned towards me, and looked into my eyes with two filmy orbs that\n",
            "distilled the rheum of intoxication.\n",
            "\n",
            "\"Nitre?\" he asked, at length.\n",
            "\n",
            "\"Nitre,\" I replied.  \"How long have you had that cough?\"\n",
            "\n",
            "\"Ugh! ugh! ugh!--ugh! ugh! ugh!--ugh! ugh! ugh!--ugh! ugh! ugh!--ugh!\n",
            "ugh! ugh!\"\n",
            "\n",
            "My poor friend found it impossible to reply for many minutes.\n",
            "\n",
            "\"It is nothing,\" he said, at last.\n",
            "\n",
            "\"Come,\" I said, with decision, \"we will go back; your health is\n",
            "precious.  You are rich, respected, admired, beloved; you are happy, as\n",
            "once I was.  You are a man to be missed.  For me it is no matter.  We\n",
            "will go back; you will be ill, and I cannot be responsible.  Besides,\n",
            "there is Luchesi--\"\n",
            "\n",
            "\"Enough,\" he said; \"the cough is a mere nothing; it will not kill me.\n",
            "I shall not die of a cough.\"\n",
            "\n",
            "\"True--true,\" I replied; \"and, indeed, I had no intention of alarming\n",
            "you unnecessarily--but you should use all proper caution. A draught of\n",
            "this Medoc will defend us from the damps.\"\n",
            "\n",
            "Here I knocked off the neck of a bottle which I drew from a long row of\n",
            "its fellows that lay upon the mould.\n",
            "\n",
            "\"Drink,\" I said, presenting him the wine.\n",
            "\n",
            "He raised it to his lips with a leer.  He paused and nodded to me\n",
            "familiarly, while his bells jingled.\n",
            "\n",
            "\"I drink,\" he said, \"to the buried that repose around us.\"\n",
            "\n",
            "\"And I to your long life.\"\n",
            "\n",
            "He again took my arm, and we proceeded.\n",
            "\n",
            "\"These vaults,\" he said, \"are extensive.\"\n",
            "\n",
            "\"The Montresors,\" I replied, \"were a great and numerous family.\"\n",
            "\n",
            "\"I forget your arms.\"\n",
            "\n",
            "\"A huge human foot d'or, in a field azure; the foot crushes a serpent\n",
            "rampant whose fangs are imbedded in the heel.\"\n",
            "\n",
            "\"And the motto?\"\n",
            "\n",
            "\"_Nemo me impune lacessit_.\"\n",
            "\n",
            "\"Good!\" he said.\n",
            "\n",
            "The wine sparkled in his eyes and the bells jingled.  My own fancy grew\n",
            "warm with the Medoc.  We had passed through walls of piled bones, with\n",
            "casks and puncheons intermingling, into the inmost recesses of\n",
            "catacombs.  I paused again, and this time I made bold to seize\n",
            "Fortunato by an arm above the elbow.\n",
            "\n",
            "\"The nitre!\" I said; \"see, it increases.  It hangs like moss upon the\n",
            "vaults.  We are below the river's bed.  The drops of moisture trickle\n",
            "among the bones.  Come, we will go back ere it is too late.  Your\n",
            "cough--\"\n",
            "\n",
            "\"It is nothing,\" he said; \"let us go on.  But first, another draught of\n",
            "the Medoc.\"\n",
            "\n",
            "I broke and reached him a flagon of De Grave.  He emptied it at a\n",
            "breath.  His eyes flashed with a fierce light.  He laughed and threw\n",
            "the bottle upwards with a gesticulation I did not understand.\n",
            "\n",
            "I looked at him in surprise.  He repeated the movement--a grotesque one.\n",
            "\n",
            "\"You do not comprehend?\" he said.\n",
            "\n",
            "\"Not I,\" I replied.\n",
            "\n",
            "\"Then you are not of the brotherhood.\"\n",
            "\n",
            "\"How?\"\n",
            "\n",
            "\"You are not of the masons.\"\n",
            "\n",
            "\"Yes, yes,\" I said; \"yes, yes.\"\n",
            "\n",
            "\"You?  Impossible!  A mason?\"\n",
            "\n",
            "\"A mason,\" I replied.\n",
            "\n",
            "\"A sign,\" he said, \"a sign.\"\n",
            "\n",
            "\"It is this,\" I answered, producing a trowel from beneath the folds of\n",
            "my _roquelaire_.\n",
            "\n",
            "\"You jest,\" he exclaimed, recoiling a few paces.  \"But let us proceed\n",
            "to the Amontillado.\"\n",
            "\n",
            "\"Be it so,\" I said, replacing the tool beneath the cloak and again\n",
            "offering him my arm.  He leaned upon it heavily.  We continued our\n",
            "route in search of the Amontillado.  We passed through a range of low\n",
            "arches, descended, passed on, and descending again, arrived at a deep\n",
            "crypt, in which the foulness of the air caused our flambeaux rather to\n",
            "glow than flame.\n",
            "\n",
            "## Document 1\n",
            "\n",
            "The thousand injuries of Fortunato I had borne as I best could, but\n",
            "when he ventured upon insult, I vowed revenge.  You, who so well know\n",
            "the nature of my soul, will not suppose, however, that I gave utterance\n",
            "to a threat.  _At length_ I would be avenged; this was a point definitely\n",
            "settled--but the very definitiveness with which it was resolved,\n",
            "precluded the idea of risk.  I must not only punish, but punish with\n",
            "impunity.  A wrong is unredressed when retribution overtakes its\n",
            "redresser.  It is equally unredressed when the avenger fails to make\n",
            "himself felt as such to him who has done the wrong.\n",
            "\n",
            "It must be understood that neither by word nor deed had I given\n",
            "Fortunato cause to doubt my good will.  I continued, as was my wont, to\n",
            "smile in his face, and he did not perceive that my smile _now_ was at\n",
            "the thought of his immolation.\n",
            "\n",
            "He had a weak point--this Fortunato--although in other regards he was a\n",
            "man to be respected and even feared.  He prided himself on his\n",
            "connoisseurship in wine.  Few Italians have the true virtuoso spirit.\n",
            "For the most part their enthusiasm is adopted to suit the time and\n",
            "opportunity--to practise imposture upon the British and Austrian\n",
            "_millionaires_.  In painting and gemmary, Fortunato, like his countrymen,\n",
            "was a quack--but in the matter of old wines he was sincere.  In this\n",
            "respect I did not differ from him materially: I was skillful in the\n",
            "Italian vintages myself, and bought largely whenever I could.\n",
            "\n",
            "It was about dusk, one evening during the supreme madness of the\n",
            "carnival season, that I encountered my friend.  He accosted me with\n",
            "excessive warmth, for he had been drinking much.  The man wore motley.\n",
            "He had on a tight-fitting parti-striped dress, and his head was\n",
            "surmounted by the conical cap and bells.  I was so pleased to see him,\n",
            "that I thought I should never have done wringing his hand.\n",
            "\n",
            "I said to him--\"My dear Fortunato, you are luckily met.  How remarkably\n",
            "well you are looking to-day!  But I have received a pipe of what passes\n",
            "for Amontillado, and I have my doubts.\"\n",
            "\n",
            "\"How?\" said he.  \"Amontillado?  A pipe?  Impossible!  And in the middle\n",
            "of the carnival!\"\n",
            "\n",
            "\"I have my doubts,\" I replied; \"and I was silly enough to pay the full\n",
            "Amontillado price without consulting you in the matter. You were not to\n",
            "be found, and I was fearful of losing a bargain.\"\n",
            "\n",
            "\"Amontillado!\"\n",
            "\n",
            "\"I have my doubts.\"\n",
            "\n",
            "\"Amontillado!\"\n",
            "\n",
            "\"And I must satisfy them.\"\n",
            "\n",
            "\"Amontillado!\"\n",
            "\n",
            "\"As you are engaged, I am on my way to Luchesi.  If any one has a\n",
            "critical turn, it is he.  He will tell me--\"\n",
            "\n",
            "\"Luchesi cannot tell Amontillado from Sherry.\"\n",
            "\n",
            "\"And yet some fools will have it that his taste is a match for your\n",
            "own.\"\n",
            "\n",
            "\"Come, let us go.\"\n",
            "\n",
            "\"Whither?\"\n",
            "\n",
            "\"To your vaults.\"\n",
            "\n",
            "\"My friend, no; I will not impose upon your good nature.  I perceive\n",
            "you have an engagement.  Luchesi--\"\n",
            "\n",
            "\"I have no engagement;--come.\"\n",
            "\n",
            "\"My friend, no.  It is not the engagement, but the severe cold with\n",
            "which I perceive you are afflicted.  The vaults are insufferably damp.\n",
            "They are encrusted with nitre.\"\n",
            "\n",
            "\"Let us go, nevertheless.  The cold is merely nothing. Amontillado!\n",
            "You have been imposed upon.  And as for Luchesi, he cannot distinguish\n",
            "Sherry from Amontillado.\"\n",
            "\n",
            "Thus speaking, Fortunato possessed himself of my arm. Putting on a mask\n",
            "of black silk, and drawing a _roquelaire_ closely about my person, I\n",
            "suffered him to hurry me to my palazzo.\n",
            "\n",
            "There were no attendants at home; they had absconded to make merry in\n",
            "honour of the time.  I had told them that I should not return until the\n",
            "morning, and had given them explicit orders not to stir from the house.\n",
            "These orders were sufficient, I well knew, to insure their immediate\n",
            "disappearance, one and all, as soon as my back was turned.\n",
            "\n",
            "## Document 2\n",
            "\n",
            "It was now midnight, and my task was drawing to a close.  I had\n",
            "completed the eighth, the ninth, and the tenth tier.  I had finished a\n",
            "portion of the last and the eleventh; there remained but a single stone\n",
            "to be fitted and plastered in.  I struggled with its weight; I placed\n",
            "it partially in its destined position.  But now there came from out the\n",
            "niche a low laugh that erected the hairs upon my head.  It was\n",
            "succeeded by a sad voice, which I had difficulty in recognizing as that\n",
            "of the noble Fortunato.  The voice said--\n",
            "\n",
            "\"Ha! ha! ha!--he! he! he!--a very good joke indeed--an excellent jest.\n",
            "We shall have many a rich laugh about it at the palazzo--he! he!\n",
            "he!--over our wine--he! he! he!\"\n",
            "\n",
            "\"The Amontillado!\" I said.\n",
            "\n",
            "\"He! he! he!--he! he! he!--yes, the Amontillado.  But is it not getting\n",
            "late?  Will not they be awaiting us at the palazzo, the Lady Fortunato\n",
            "and the rest?  Let us be gone.\"\n",
            "\n",
            "\"Yes,\" I said, \"let us be gone.\"\n",
            "\n",
            "\"_For the love of God, Montresor!_\"\n",
            "\n",
            "\"Yes,\" I said, \"for the love of God!\"\n",
            "\n",
            "But to these words I hearkened in vain for a reply.  I grew impatient.\n",
            "I called aloud--\n",
            "\n",
            "\"Fortunato!\"\n",
            "\n",
            "No answer.  I called again--\n",
            "\n",
            "\"Fortunato--\"\n",
            "\n",
            "No answer still.  I thrust a torch through the remaining aperture and\n",
            "let it fall within.  There came forth in reply only a jingling of the\n",
            "bells.  My heart grew sick on account of the dampness of the catacombs.\n",
            "I hastened to make an end of my labour.  I forced the last stone into\n",
            "its position; I plastered it up.  Against the new masonry I re-erected\n",
            "the old rampart of bones.  For the half of a century no mortal has\n",
            "disturbed them.  _In pace requiescat!_\n",
            "\n",
            "## Document 3\n",
            "\n",
            "At the most remote end of the crypt there appeared another less\n",
            "spacious.  Its walls had been lined with human remains, piled to the\n",
            "vault overhead, in the fashion of the great catacombs of Paris.  Three\n",
            "sides of this interior crypt were still ornamented in this manner.\n",
            "From the fourth side the bones had been thrown down, and lay\n",
            "promiscuously upon the earth, forming at one point a mound of some\n",
            "size.  Within the wall thus exposed by the displacing of the bones, we\n",
            "perceived a still interior recess, in depth about four feet in width\n",
            "three, in height six or seven.  It seemed to have been constructed for\n",
            "no especial use within itself, but formed merely the interval between\n",
            "two of the colossal supports of the roof of the catacombs, and was\n",
            "backed by one of their circumscribing walls of solid granite.\n",
            "\n",
            "It was in vain that Fortunato, uplifting his dull torch, endeavoured to\n",
            "pry into the depth of the recess.  Its termination the feeble light did\n",
            "not enable us to see.\n",
            "\n",
            "\"Proceed,\" I said; \"herein is the Amontillado.  As for Luchesi--\"\n",
            "\n",
            "\"He is an ignoramus,\" interrupted my friend, as he stepped unsteadily\n",
            "forward, while I followed immediately at his heels.  In an instant he\n",
            "had reached the extremity of the niche, and finding his progress\n",
            "arrested by the rock, stood stupidly bewildered.  A moment more and I\n",
            "had fettered him to the granite.  In its surface were two iron staples,\n",
            "distant from each other about two feet, horizontally.  From one of\n",
            "these depended a short chain, from the other a padlock.  Throwing the\n",
            "links about his waist, it was but the work of a few seconds to secure\n",
            "it.  He was too much astounded to resist.  Withdrawing the key I\n",
            "stepped back from the recess.\n",
            "\n",
            "\"Pass your hand,\" I said, \"over the wall; you cannot help feeling the\n",
            "nitre.  Indeed, it is _very_ damp.  Once more let me _implore_ you to\n",
            "return.  No?  Then I must positively leave you.  But I must first\n",
            "render you all the little attentions in my power.\"\n",
            "\n",
            "\"The Amontillado!\" ejaculated my friend, not yet recovered from his\n",
            "astonishment.\n",
            "\n",
            "\"True,\" I replied; \"the Amontillado.\"\n",
            "\n",
            "As I said these words I busied myself among the pile of bones of which\n",
            "I have before spoken.  Throwing them aside, I soon uncovered a quantity\n",
            "of building stone and mortar.  With these materials and with the aid of\n",
            "my trowel, I began vigorously to wall up the entrance of the niche.\n",
            "\n",
            "I had scarcely laid the first tier of the masonry when I discovered\n",
            "that the intoxication of Fortunato had in a great measure worn off. The\n",
            "earliest indication I had of this was a low moaning cry from the depth\n",
            "of the recess.  It was _not_ the cry of a drunken man. There was then a\n",
            "long and obstinate silence.  I laid the second tier, and the third, and\n",
            "the fourth; and then I heard the furious vibrations of the chain.  The\n",
            "noise lasted for several minutes, during which, that I might hearken to\n",
            "it with the more satisfaction, I ceased my labours and sat down upon\n",
            "the bones. When at last the clanking subsided, I resumed the trowel,\n",
            "and finished without interruption the fifth, the sixth, and the seventh\n",
            "tier.  The wall was now nearly upon a level with my breast.  I again\n",
            "paused, and holding the flambeaux over the mason-work, threw a few\n",
            "feeble rays upon the figure within.\n",
            "\n",
            "A succession of loud and shrill screams, bursting suddenly from the\n",
            "throat of the chained form, seemed to thrust me violently back.  For a\n",
            "brief moment I hesitated--I trembled.  Unsheathing my rapier, I began\n",
            "to grope with it about the recess; but the thought of an instant\n",
            "reassured me.  I placed my hand upon the solid fabric of the catacombs,\n",
            "and felt satisfied.  I reapproached the wall; I replied to the yells of\n",
            "him who clamoured.  I re-echoed--I aided--I surpassed them in volume\n",
            "and in strength.  I did this, and the clamourer grew still.\n"
          ]
        }
      ]
    },
    {
      "cell_type": "markdown",
      "source": [
        "# Finally do a Q/A Search\n",
        "To be able implement question answering over documents we need to do four steps:\n",
        "\n",
        "1. Create an index on top of our Vector store\n",
        "2. Create a Retriever from that index\n",
        "3. Ask questions (promts)!\n",
        "\n",
        "\n",
        "A retriever is an interface that returns documents given an unstructured query. It is more general than a vector store. A retriever does not need to be able to store documents, only to return (or retrieve) it. Vector stores can be used as the backbone of a retriever.\n",
        "\n",
        "Hint: The query method is creating a chain using OpenAI document Search:\n",
        "\n",
        "        llm = llm or OpenAI(temperature=0)\n",
        "        chain = RetrievalQA.from_chain_type(\n",
        "            llm, retriever=self.vectorstore.as_retriever(), **kwargs\n",
        "        )"
      ],
      "metadata": {
        "id": "9cVulGW6aom5"
      },
      "id": "9cVulGW6aom5"
    },
    {
      "cell_type": "code",
      "source": [
        "# Q/A LLM Search\n",
        "from langchain.indexes.vectorstore import VectorStoreIndexWrapper\n",
        "index = VectorStoreIndexWrapper(vectorstore=cassVStore)\n",
        "\n",
        "# Search within the document context for some text related information.\n",
        "prompt = \"Who is Luchesi?\"\n",
        "index.query(prompt)\n"
      ],
      "metadata": {
        "colab": {
          "base_uri": "https://localhost:8080/",
          "height": 53
        },
        "id": "cptnBJhCWTz0",
        "outputId": "24ab4f98-2ccc-4e99-9537-7da9f6b5dd45"
      },
      "id": "cptnBJhCWTz0",
      "execution_count": 72,
      "outputs": [
        {
          "output_type": "execute_result",
          "data": {
            "text/plain": [
              "' Luchesi is a character mentioned in the story. He is a connoisseur of wine who Fortunato believes can tell Amontillado from Sherry.'"
            ],
            "application/vnd.google.colaboratory.intrinsic+json": {
              "type": "string"
            }
          },
          "metadata": {},
          "execution_count": 72
        }
      ]
    },
    {
      "cell_type": "code",
      "source": [
        "#Alternatively you can use a retrieval chain and some conversation history\n",
        "from langchain.chains import ConversationalRetrievalChain\n",
        "from langchain.memory import ConversationBufferMemory\n",
        "from langchain.llms import OpenAI\n",
        "#vectordb.persist()\n",
        "memory = ConversationBufferMemory(memory_key=\"chat_history\", return_messages=True)\n",
        "pdf_qa = ConversationalRetrievalChain.from_llm(OpenAI(temperature=0.8) , cassVStore.as_retriever(), memory=memory)\n",
        "\n",
        "\n",
        "query = \"Who is Luchesi?\"\n",
        "result = pdf_qa({\"question\": query})\n",
        "print(\"Answer:\")\n",
        "result[\"answer\"]"
      ],
      "metadata": {
        "colab": {
          "base_uri": "https://localhost:8080/",
          "height": 70
        },
        "id": "kYz1Jdl1Qhuj",
        "outputId": "67269e66-5a9f-4b4b-8653-f4623e36c8bb"
      },
      "id": "kYz1Jdl1Qhuj",
      "execution_count": 73,
      "outputs": [
        {
          "output_type": "stream",
          "name": "stdout",
          "text": [
            "Answer:\n"
          ]
        },
        {
          "output_type": "execute_result",
          "data": {
            "text/plain": [
              "' Luchesi is an Italian connoisseur of wines who Fortunato suggests Montresor should consult to compare the Amontillado with Sherry.'"
            ],
            "application/vnd.google.colaboratory.intrinsic+json": {
              "type": "string"
            }
          },
          "metadata": {},
          "execution_count": 73
        }
      ]
    },
    {
      "cell_type": "markdown",
      "metadata": {
        "id": "87dgg1pvzT1F"
      },
      "source": [
        "# Other Usefull stuff:  \n",
        "E.g. query the Vector Store to see what has been added to it and what happended with our documentation"
      ],
      "id": "87dgg1pvzT1F"
    },
    {
      "cell_type": "code",
      "execution_count": 74,
      "metadata": {
        "colab": {
          "base_uri": "https://localhost:8080/"
        },
        "id": "pepS7NSo9KRO",
        "outputId": "69802547-0627-4e3b-a8aa-13d24645418c"
      },
      "outputs": [
        {
          "output_type": "stream",
          "name": "stdout",
          "text": [
            "\n",
            "Row 0:\n",
            "    document_id:      4d6919f113224f0081bc794e68185d19\n",
            "    embedding_vector: [-0.004671068396419287, -0.0024927675258368254, 0.01194973755627 ...\n",
            "    document:         At the most remote end of the crypt there appeared another less\n",
            " ...\n",
            "    metadata_blob:    {\"source\": \"/content/amontillado.txt\"}\n",
            "\n",
            "Row 1:\n",
            "    document_id:      ba738dd0a394409d90c3ef29b0db13a1\n",
            "    embedding_vector: [-0.0056596905924379826, -0.01846846379339695, -0.01377687882632 ...\n",
            "    document:         DataStax Headquarters\n",
            "San Francisco Bay Area\n",
            "3975 Freedom Circle ...\n",
            "    metadata_blob:    {\"source\": \"/content/Customer_Case_Study_Netflix.pdf\", \"page\": 1}\n",
            "\n",
            "Row 2:\n",
            "    document_id:      c144a9c2577c4f808c80b5bc61f884a2\n",
            "    embedding_vector: [-0.012555774301290512, -0.004729681648313999, -0.00012366501323 ...\n",
            "    document:         PERSONALIZATION\n",
            "EBAY ENGAGES CUSTOMERS WITH  \n",
            "PERSONALIZED RECOM ...\n",
            "    metadata_blob:    {\"source\": \"/content/Customer_Case_Study_eBay.pdf\", \"page\": 0}\n",
            "\n",
            "...\n"
          ]
        }
      ],
      "source": [
        "cqlSelect = f'SELECT * FROM {ASTRA_DB_KEYSPACE}.{ASTRA_DB_TABLE_NAME} LIMIT 3;'  # (Not a production-optimized query ...)\n",
        "rows = session.execute(cqlSelect)\n",
        "for row_i, row in enumerate(rows):\n",
        "    print(f'\\nRow {row_i}:')\n",
        "    print(f'    document_id:      {row.document_id}')\n",
        "    print(f'    embedding_vector: {str(row.embedding_vector)[:64]} ...')\n",
        "    print(f'    document:         {row.document[:64]} ...')\n",
        "    print(f'    metadata_blob:    {row.metadata_blob}')\n",
        "\n",
        "print('\\n...')"
      ],
      "id": "pepS7NSo9KRO"
    }
  ],
  "metadata": {
    "colab": {
      "provenance": [],
      "include_colab_link": true
    },
    "kernelspec": {
      "display_name": "Python 3",
      "name": "python3"
    },
    "language_info": {
      "codemirror_mode": {
        "name": "ipython",
        "version": 3
      },
      "file_extension": ".py",
      "mimetype": "text/x-python",
      "name": "python",
      "nbconvert_exporter": "python",
      "pygments_lexer": "ipython3",
      "version": "3.9.6"
    }
  },
  "nbformat": 4,
  "nbformat_minor": 5
}